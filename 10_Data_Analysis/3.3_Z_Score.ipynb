{
 "cells": [
  {
   "cell_type": "code",
   "execution_count": 19,
   "id": "22cc443e-d4fb-4f8c-b0b9-2bdb563f373d",
   "metadata": {},
   "outputs": [
    {
     "name": "stdout",
     "output_type": "stream",
     "text": [
      "    sr. no     A   B   C     D   E  Length\n",
      "0        1   2.0   1   5   3.0   4    71.0\n",
      "1        2   4.0   3  10   6.0   8    85.0\n",
      "2        3   6.0   5  15   9.0  12    96.0\n",
      "3        4   8.0   7  20  12.0  16    56.0\n",
      "4        5  10.0   9  25  15.0  20    84.0\n",
      "5        6  12.0  11  30  18.0  24    89.0\n",
      "6        7  14.0  13  35  21.0  28    77.0\n",
      "7        8  16.0  15  40  24.0  32    66.0\n",
      "8        9  18.0  17  45  27.0  36    55.0\n",
      "9       10  20.0  19  50  30.0  40    99.0\n",
      "10      11   NaN  21  55   NaN  44     NaN\n"
     ]
    }
   ],
   "source": [
    "# DATA NORMALISATION by\n",
    "# 3. Z-Score / Standard Score\n",
    "\n",
    "import pandas as pd\n",
    "path = 'D:/My Programming Studies/Tutedude/10_Data_Analysis/CONTENT FILES/data.xlsx'\n",
    "df = pd.read_excel(path)\n",
    "print(df)"
   ]
  },
  {
   "cell_type": "code",
   "execution_count": 20,
   "id": "b2f8332e-0dfc-497f-8e53-1619572f47d1",
   "metadata": {},
   "outputs": [
    {
     "data": {
      "text/html": [
       "<div>\n",
       "<style scoped>\n",
       "    .dataframe tbody tr th:only-of-type {\n",
       "        vertical-align: middle;\n",
       "    }\n",
       "\n",
       "    .dataframe tbody tr th {\n",
       "        vertical-align: top;\n",
       "    }\n",
       "\n",
       "    .dataframe thead th {\n",
       "        text-align: right;\n",
       "    }\n",
       "</style>\n",
       "<table border=\"1\" class=\"dataframe\">\n",
       "  <thead>\n",
       "    <tr style=\"text-align: right;\">\n",
       "      <th></th>\n",
       "      <th>Sr.No.</th>\n",
       "      <th>Even</th>\n",
       "      <th>Odd</th>\n",
       "      <th>Multiple of 5</th>\n",
       "      <th>Multiple of 3</th>\n",
       "      <th>Multiple of 4</th>\n",
       "      <th>Lengths</th>\n",
       "    </tr>\n",
       "  </thead>\n",
       "  <tbody>\n",
       "    <tr>\n",
       "      <th>0</th>\n",
       "      <td>1</td>\n",
       "      <td>2.0</td>\n",
       "      <td>1</td>\n",
       "      <td>5</td>\n",
       "      <td>3.0</td>\n",
       "      <td>4</td>\n",
       "      <td>71.0</td>\n",
       "    </tr>\n",
       "    <tr>\n",
       "      <th>1</th>\n",
       "      <td>2</td>\n",
       "      <td>4.0</td>\n",
       "      <td>3</td>\n",
       "      <td>10</td>\n",
       "      <td>6.0</td>\n",
       "      <td>8</td>\n",
       "      <td>85.0</td>\n",
       "    </tr>\n",
       "    <tr>\n",
       "      <th>2</th>\n",
       "      <td>3</td>\n",
       "      <td>6.0</td>\n",
       "      <td>5</td>\n",
       "      <td>15</td>\n",
       "      <td>9.0</td>\n",
       "      <td>12</td>\n",
       "      <td>96.0</td>\n",
       "    </tr>\n",
       "    <tr>\n",
       "      <th>3</th>\n",
       "      <td>4</td>\n",
       "      <td>8.0</td>\n",
       "      <td>7</td>\n",
       "      <td>20</td>\n",
       "      <td>12.0</td>\n",
       "      <td>16</td>\n",
       "      <td>56.0</td>\n",
       "    </tr>\n",
       "    <tr>\n",
       "      <th>4</th>\n",
       "      <td>5</td>\n",
       "      <td>10.0</td>\n",
       "      <td>9</td>\n",
       "      <td>25</td>\n",
       "      <td>15.0</td>\n",
       "      <td>20</td>\n",
       "      <td>84.0</td>\n",
       "    </tr>\n",
       "  </tbody>\n",
       "</table>\n",
       "</div>"
      ],
      "text/plain": [
       "   Sr.No.  Even  Odd  Multiple of 5  Multiple of 3  Multiple of 4  Lengths\n",
       "0       1   2.0    1              5            3.0              4     71.0\n",
       "1       2   4.0    3             10            6.0              8     85.0\n",
       "2       3   6.0    5             15            9.0             12     96.0\n",
       "3       4   8.0    7             20           12.0             16     56.0\n",
       "4       5  10.0    9             25           15.0             20     84.0"
      ]
     },
     "execution_count": 20,
     "metadata": {},
     "output_type": "execute_result"
    }
   ],
   "source": [
    "headers = [\"Sr.No.\", \"Even\", \"Odd\", \"Multiple of 5\", \"Multiple of 3\", \"Multiple of 4\", \"Lengths\"]\n",
    "df.columns = headers\n",
    "df.head(5)"
   ]
  },
  {
   "cell_type": "code",
   "execution_count": 22,
   "id": "db066e8c-41ce-4b30-9642-24ed6cd5500c",
   "metadata": {},
   "outputs": [],
   "source": [
    "# 3. Z-Score / Standard Score\n",
    "df[\"Lengths\"] = (df[\"Lengths\"] - df[\"Lengths\"].mean()) / df[\"Lengths\"].std()"
   ]
  },
  {
   "cell_type": "code",
   "execution_count": 23,
   "id": "e6fe3d68-9cf1-4549-985a-e39b87479780",
   "metadata": {},
   "outputs": [
    {
     "data": {
      "text/html": [
       "<div>\n",
       "<style scoped>\n",
       "    .dataframe tbody tr th:only-of-type {\n",
       "        vertical-align: middle;\n",
       "    }\n",
       "\n",
       "    .dataframe tbody tr th {\n",
       "        vertical-align: top;\n",
       "    }\n",
       "\n",
       "    .dataframe thead th {\n",
       "        text-align: right;\n",
       "    }\n",
       "</style>\n",
       "<table border=\"1\" class=\"dataframe\">\n",
       "  <thead>\n",
       "    <tr style=\"text-align: right;\">\n",
       "      <th></th>\n",
       "      <th>Sr.No.</th>\n",
       "      <th>Even</th>\n",
       "      <th>Odd</th>\n",
       "      <th>Multiple of 5</th>\n",
       "      <th>Multiple of 3</th>\n",
       "      <th>Multiple of 4</th>\n",
       "      <th>Lengths</th>\n",
       "    </tr>\n",
       "  </thead>\n",
       "  <tbody>\n",
       "    <tr>\n",
       "      <th>0</th>\n",
       "      <td>1</td>\n",
       "      <td>2.0</td>\n",
       "      <td>1</td>\n",
       "      <td>5</td>\n",
       "      <td>3.0</td>\n",
       "      <td>4</td>\n",
       "      <td>-0.437161</td>\n",
       "    </tr>\n",
       "    <tr>\n",
       "      <th>1</th>\n",
       "      <td>2</td>\n",
       "      <td>4.0</td>\n",
       "      <td>3</td>\n",
       "      <td>10</td>\n",
       "      <td>6.0</td>\n",
       "      <td>8</td>\n",
       "      <td>0.462876</td>\n",
       "    </tr>\n",
       "    <tr>\n",
       "      <th>2</th>\n",
       "      <td>3</td>\n",
       "      <td>6.0</td>\n",
       "      <td>5</td>\n",
       "      <td>15</td>\n",
       "      <td>9.0</td>\n",
       "      <td>12</td>\n",
       "      <td>1.170048</td>\n",
       "    </tr>\n",
       "    <tr>\n",
       "      <th>3</th>\n",
       "      <td>4</td>\n",
       "      <td>8.0</td>\n",
       "      <td>7</td>\n",
       "      <td>20</td>\n",
       "      <td>12.0</td>\n",
       "      <td>16</td>\n",
       "      <td>-1.401486</td>\n",
       "    </tr>\n",
       "    <tr>\n",
       "      <th>4</th>\n",
       "      <td>5</td>\n",
       "      <td>10.0</td>\n",
       "      <td>9</td>\n",
       "      <td>25</td>\n",
       "      <td>15.0</td>\n",
       "      <td>20</td>\n",
       "      <td>0.398588</td>\n",
       "    </tr>\n",
       "  </tbody>\n",
       "</table>\n",
       "</div>"
      ],
      "text/plain": [
       "   Sr.No.  Even  Odd  Multiple of 5  Multiple of 3  Multiple of 4   Lengths\n",
       "0       1   2.0    1              5            3.0              4 -0.437161\n",
       "1       2   4.0    3             10            6.0              8  0.462876\n",
       "2       3   6.0    5             15            9.0             12  1.170048\n",
       "3       4   8.0    7             20           12.0             16 -1.401486\n",
       "4       5  10.0    9             25           15.0             20  0.398588"
      ]
     },
     "execution_count": 23,
     "metadata": {},
     "output_type": "execute_result"
    }
   ],
   "source": [
    "df.head(5)"
   ]
  },
  {
   "cell_type": "code",
   "execution_count": 24,
   "id": "ea9054f5-7ab3-42fc-9c6f-9e27e8985913",
   "metadata": {},
   "outputs": [
    {
     "name": "stdout",
     "output_type": "stream",
     "text": [
      "    Sr.No.  Even  Odd  Multiple of 5  Multiple of 3  Multiple of 4   Lengths\n",
      "0        1   2.0    1              5            3.0              4 -0.437161\n",
      "1        2   4.0    3             10            6.0              8  0.462876\n",
      "2        3   6.0    5             15            9.0             12  1.170048\n",
      "3        4   8.0    7             20           12.0             16 -1.401486\n",
      "4        5  10.0    9             25           15.0             20  0.398588\n",
      "5        6  12.0   11             30           18.0             24  0.720029\n",
      "6        7  14.0   13             35           21.0             28 -0.051431\n",
      "7        8  16.0   15             40           24.0             32 -0.758602\n",
      "8        9  18.0   17             45           27.0             36 -1.465774\n",
      "9       10  20.0   19             50           30.0             40  1.362913\n",
      "10      11   NaN   21             55            NaN             44       NaN\n"
     ]
    }
   ],
   "source": [
    "print(df)"
   ]
  },
  {
   "cell_type": "code",
   "execution_count": null,
   "id": "d876bfca-b757-4128-bf1c-321fa54f79ab",
   "metadata": {},
   "outputs": [],
   "source": []
  }
 ],
 "metadata": {
  "kernelspec": {
   "display_name": "Python 3 (ipykernel)",
   "language": "python",
   "name": "python3"
  },
  "language_info": {
   "codemirror_mode": {
    "name": "ipython",
    "version": 3
   },
   "file_extension": ".py",
   "mimetype": "text/x-python",
   "name": "python",
   "nbconvert_exporter": "python",
   "pygments_lexer": "ipython3",
   "version": "3.11.7"
  }
 },
 "nbformat": 4,
 "nbformat_minor": 5
}
